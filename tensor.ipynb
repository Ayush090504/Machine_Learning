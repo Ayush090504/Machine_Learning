{
 "cells": [
  {
   "cell_type": "code",
   "execution_count": 2,
   "id": "cb761450",
   "metadata": {},
   "outputs": [],
   "source": [
    "import numpy as np"
   ]
  },
  {
   "cell_type": "code",
   "execution_count": 2,
   "id": "708e70db",
   "metadata": {},
   "outputs": [],
   "source": [
    "a = np.array(4)"
   ]
  },
  {
   "cell_type": "code",
   "execution_count": 3,
   "id": "8b04508b",
   "metadata": {},
   "outputs": [
    {
     "name": "stdout",
     "output_type": "stream",
     "text": [
      "4\n"
     ]
    }
   ],
   "source": [
    "print(a)"
   ]
  },
  {
   "cell_type": "code",
   "execution_count": 5,
   "id": "17356d2c",
   "metadata": {},
   "outputs": [
    {
     "data": {
      "text/plain": [
       "0"
      ]
     },
     "execution_count": 5,
     "metadata": {},
     "output_type": "execute_result"
    }
   ],
   "source": [
    "a.ndim"
   ]
  },
  {
   "cell_type": "code",
   "execution_count": 4,
   "id": "52479ca8",
   "metadata": {},
   "outputs": [
    {
     "name": "stdout",
     "output_type": "stream",
     "text": [
      "[1 2 3 4]\n"
     ]
    },
    {
     "data": {
      "text/plain": [
       "1"
      ]
     },
     "execution_count": 4,
     "metadata": {},
     "output_type": "execute_result"
    }
   ],
   "source": [
    "#List of tensor are called as 1D tensor also known as 1D array or simply array. \n",
    "# It also has something called axis or rank which basically means the number of dimensions.\n",
    "a=np.array([1,2,3,4])\n",
    "print(a)\n",
    "a.ndim"
   ]
  },
  {
   "cell_type": "code",
   "execution_count": 5,
   "id": "8e86af34",
   "metadata": {},
   "outputs": [],
   "source": [
    "#This 1D tensor is also called vector, when describing in terms of vector like telling the dimension of vector then it is simply the number of elements in the list is the dimension of vector\n",
    "#For example from above we can say a is a 4 dimension vector because it has 4 elements."
   ]
  },
  {
   "cell_type": "code",
   "execution_count": 6,
   "id": "1c1f3a82",
   "metadata": {},
   "outputs": [
    {
     "name": "stdout",
     "output_type": "stream",
     "text": [
      "[[1 2 3 4]\n",
      " [5 6 7 8]]\n"
     ]
    },
    {
     "data": {
      "text/plain": [
       "2"
      ]
     },
     "execution_count": 6,
     "metadata": {},
     "output_type": "execute_result"
    }
   ],
   "source": [
    "#2D tensor is called matrices. This basically is the collection of multiple 1D array.\n",
    "d2 = np.array([[1,2,3,4],[5,6,7,8]])\n",
    "print(d2)\n",
    "d2.ndim"
   ]
  },
  {
   "cell_type": "code",
   "execution_count": 7,
   "id": "8356d7cc",
   "metadata": {},
   "outputs": [],
   "source": [
    "#ND Tensor, are basically collection of different number of matrices\n",
    "#Like a 3d tensor is basically a collection of 2d tensor\n",
    "#Similarly ND tensor is basically a collection of n-d tensor\n",
    "#In machine learning we generally use only 0-5 D tenssor\n"
   ]
  },
  {
   "cell_type": "code",
   "execution_count": null,
   "id": "8de80dd4",
   "metadata": {},
   "outputs": [],
   "source": [
    "# Some key concepts - Rank, Axis, Shape\n",
    "# Rank = Number of axis = Number of dimension\n",
    "# Shape - is maximum number of elements in rows, coluumns"
   ]
  }
 ],
 "metadata": {
  "kernelspec": {
   "display_name": "Python 3",
   "language": "python",
   "name": "python3"
  },
  "language_info": {
   "codemirror_mode": {
    "name": "ipython",
    "version": 3
   },
   "file_extension": ".py",
   "mimetype": "text/x-python",
   "name": "python",
   "nbconvert_exporter": "python",
   "pygments_lexer": "ipython3",
   "version": "3.13.3"
  }
 },
 "nbformat": 4,
 "nbformat_minor": 5
}
